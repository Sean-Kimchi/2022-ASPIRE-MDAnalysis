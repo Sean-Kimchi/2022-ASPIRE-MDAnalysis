{
 "cells": [
  {
   "cell_type": "markdown",
   "id": "4f792604",
   "metadata": {},
   "source": [
    "only testing for windows right now\n",
    "\n",
    "pip install --upgrade MDAnalysis\n",
    "\n",
    "pip install --upgrade MDAnalysis[analysis]\n",
    "\n",
    "pip install --upgrade MDAnalysisTests\n",
    "\n",
    "conda install -c conda-forge nodejs\n",
    "\n",
    "jupyter labextension install @jupyter-widgets/jupyterlab-manager\n",
    "\n",
    "Version History: \n",
    "06/10/2022 - Vincent La - original script\n",
    "07/22/2022 - Eugene Ragasa - modified script to be more efficient when reused\n",
    "                 "
   ]
  },
  {
   "cell_type": "markdown",
   "id": "f1d53d21",
   "metadata": {},
   "source": [
    "adapted from https://userguide.mdanalysis.org/stable/examples/analysis/alignment_and_rms/rmsd.html"
   ]
  },
  {
   "cell_type": "code",
   "execution_count": 2,
   "id": "e41535c1",
   "metadata": {
    "scrolled": true
   },
   "outputs": [],
   "source": [
    "import os \n",
    "import numpy as np\n",
    "import pandas as pd\n",
    "\n",
    "import matplotlib.pyplot as plt\n",
    "# the next line is necessary to display plots in Jupyter\n",
    "# %matplotlib inline\n",
    "\n",
    "# ------------------------------------------------------------------------------------------------------------\n",
    "# uncomment this section if battery_md is not in your PYTHONPATH\n",
    "# import sys\n",
    "# battery_md_path = \"C:\\\\Users\\\\lavs2\\\\.vscode\\\\ADeLE\\\\battery_md\\\\src\" \n",
    "# sys.path.append(battery_md_path)\n",
    "# ------------------------------------------------------------------------------------------------------------\n",
    "\n",
    "from battery_md.configuration import Configuration\n",
    "from battery_md.jobs import Nvt\n",
    "from battery_md.mixtures import ElectrolyteMixture\n",
    "from battery_md.io.lammps.diffusion import calculate_diffusion_coefficient"
   ]
  },
  {
   "cell_type": "code",
   "execution_count": 3,
   "id": "e8d4fb24",
   "metadata": {},
   "outputs": [],
   "source": [
    "project_path = \"U:\\\\Projects\\\\2022_Adele\\\\005a_LiPF6_DEC_DMC_EC_EMC\"\n",
    "missing_files_path = os.path.join(project_path, \"missing_files.txt\")\n",
    "electrolyte_mixtures = [\n",
    "    {'solute_n_moles': 1.0, 'solute_symbol': 'LiPF6', 'solvent_composition_by_volume': {'DEC': 1.0, 'DMC': 1.0, 'EC': 1.0, 'EMC': 2.0}},\n",
    "    {'solute_n_moles': 1.0, 'solute_symbol': 'LiPF6', 'solvent_composition_by_volume': {'DEC': 1.0, 'DMC': 1.0, 'EC': 1.0, 'EMC': 3.0}},\n",
    "    {'solute_n_moles': 1.0, 'solute_symbol': 'LiPF6', 'solvent_composition_by_volume': {'DEC': 1.0, 'DMC': 1.0, 'EC': 1.0, 'EMC': 4.0}},\n",
    "#    {'solute_n_moles': 1.0, 'solute_symbol': 'LiPF6', 'solvent_composition_by_volume': {'DEC': 1.0, 'DMC': 3.0, 'EC': 1.0, 'EMC': 1.0}},\n",
    "#    {'solute_n_moles': 1.0, 'solute_symbol': 'LiPF6', 'solvent_composition_by_volume': {'DEC': 1.0, 'DMC': 2.0, 'EC': 1.0, 'EMC': 1.0}},\n",
    "#    {'solute_n_moles': 1.0, 'solute_symbol': 'LiPF6', 'solvent_composition_by_volume': {'DEC': 1.0, 'DMC': 4.0, 'EC': 1.0, 'EMC': 1.0}},\n",
    "#    {'solute_n_moles': 1.0, 'solute_symbol': 'LiPF6', 'solvent_composition_by_volume': {'DEC': 1.0, 'DMC': 2.0, 'EC': 1.0, 'EMC': 2.0}}\n",
    "]\n",
    "\n",
    "temperatures = [400, 300, 290, 280, 270, 260, 250, 240, 230]\n",
    "atom_symbols = ['Li', 'P']\n",
    "solvent_symbols = ['DEC', 'DMC', 'EC', 'EMC']\n"
   ]
  },
  {
   "cell_type": "code",
   "execution_count": 11,
   "id": "8823b642",
   "metadata": {},
   "outputs": [],
   "source": [
    "def check_if_project_path_exists(project_path):\n",
    "    project_path_exists = os.path.isdir(project_path)\n",
    "    print(f\"project_path:{project_path}\")\n",
    "    print(f\"project_path_exists:{project_path_exists}\")\n",
    "    return os.path.isdir(project_path_exists)\n",
    "\n",
    "def get_mixture_name(mixture):\n",
    "    mixture_ratios = [round(v) for v in mixture['solvent_composition_by_volume'].values()]\n",
    "    str_mixture_ratios = \":\".join([str(k) for k in mixture_ratios])\n",
    "    mixture_name = '1_M_{}'.format(str_mixture_ratios)\n",
    "    return mixture_name\n",
    "\n",
    "class MissingFiles():\n",
    "    def __init__(self, path):\n",
    "        self.path = path\n",
    "        self._initialize()\n",
    "        \n",
    "    def _initialize(self):\n",
    "        if os.path.isfile(self.path):\n",
    "            os.remove(self.path)\n",
    "    \n",
    "    def check_file(self, path):\n",
    "        if not os.path.isfile(path):\n",
    "            print(f\"missing {path}\")\n",
    "            self.add_missing_file(path)\n",
    "            return False\n",
    "        else:\n",
    "            return True\n",
    "    \n",
    "    def check_files(self, paths):\n",
    "        return all([self.check_file(path) for path in paths])\n",
    "    \n",
    "    def add_missing_file(self, path):\n",
    "        with open(self.path, 'w') as f:\n",
    "            f.write(f\"{path}\\n\")"
   ]
  },
  {
   "cell_type": "code",
   "execution_count": 12,
   "id": "d3776737",
   "metadata": {},
   "outputs": [],
   "source": [
    "from IPython.core.interactiveshell import InteractiveShell\n",
    "InteractiveShell.ast_node_interactivity = \"all\""
   ]
  },
  {
   "cell_type": "code",
   "execution_count": 13,
   "id": "98b582b8",
   "metadata": {},
   "outputs": [
    {
     "name": "stdout",
     "output_type": "stream",
     "text": [
      "missing U:\\Projects\\2022_Adele\\005a_LiPF6_DEC_DMC_EC_EMC\\1_M_LiPF6_1112_DEC_DMC_EC_EMC__nvt__400K\\system.production.lammpstrj\n",
      "missing U:\\Projects\\2022_Adele\\005a_LiPF6_DEC_DMC_EC_EMC\\1_M_LiPF6_1112_DEC_DMC_EC_EMC__nvt__400K\\system.data\n",
      "missing U:\\Projects\\2022_Adele\\005a_LiPF6_DEC_DMC_EC_EMC\\1_M_LiPF6_1112_DEC_DMC_EC_EMC__nvt__400K\\configuration.yaml\n",
      "U:\\Projects\\2022_Adele\\005a_LiPF6_DEC_DMC_EC_EMC\\1_M_LiPF6_1112_DEC_DMC_EC_EMC__nvt__400K:False\n",
      "U:\\Projects\\2022_Adele\\005a_LiPF6_DEC_DMC_EC_EMC\\1_M_LiPF6_1112_DEC_DMC_EC_EMC__nvt__300K:True\n"
     ]
    },
    {
     "ename": "NameError",
     "evalue": "name 'calculate_rmsd' is not defined",
     "output_type": "error",
     "traceback": [
      "\u001b[1;31m---------------------------------------------------------------------------\u001b[0m",
      "\u001b[1;31mNameError\u001b[0m                                 Traceback (most recent call last)",
      "Input \u001b[1;32mIn [13]\u001b[0m, in \u001b[0;36m<cell line: 5>\u001b[1;34m()\u001b[0m\n\u001b[0;32m     31\u001b[0m \u001b[38;5;28mprint\u001b[39m(\u001b[38;5;124mf\u001b[39m\u001b[38;5;124m\"\u001b[39m\u001b[38;5;132;01m{\u001b[39;00mjob_name\u001b[38;5;132;01m}\u001b[39;00m\u001b[38;5;124m:\u001b[39m\u001b[38;5;132;01m{\u001b[39;00mhas_all_files\u001b[38;5;132;01m}\u001b[39;00m\u001b[38;5;124m\"\u001b[39m)\n\u001b[0;32m     33\u001b[0m \u001b[38;5;28;01mif\u001b[39;00m has_all_files:\n\u001b[0;32m     34\u001b[0m     \n\u001b[0;32m     35\u001b[0m     \u001b[38;5;66;03m#o_rmsd is a MDAnalaysis.analysis.rms.RMSD object\u001b[39;00m\n\u001b[1;32m---> 36\u001b[0m     results[\u001b[38;5;124m'\u001b[39m\u001b[38;5;124mo_rmsd\u001b[39m\u001b[38;5;124m'\u001b[39m] \u001b[38;5;241m=\u001b[39m \u001b[43mcalculate_rmsd\u001b[49m(trajectory_path,\n\u001b[0;32m     37\u001b[0m                                        topology_path,\n\u001b[0;32m     38\u001b[0m                                        configuration_path,\n\u001b[0;32m     39\u001b[0m                                        atom_symbols\u001b[38;5;241m=\u001b[39matom_symbols)\n\u001b[0;32m     41\u001b[0m     \u001b[38;5;28;01mfor\u001b[39;00m s \u001b[38;5;129;01min\u001b[39;00m atom_symbols:\n\u001b[0;32m     42\u001b[0m \n\u001b[0;32m     43\u001b[0m         \u001b[38;5;66;03m# get time-series for time and rmsd arrays\u001b[39;00m\n\u001b[0;32m     44\u001b[0m         \u001b[38;5;66;03m# cast into column arrays for\u001b[39;00m\n\u001b[0;32m     45\u001b[0m         time \u001b[38;5;241m=\u001b[39m np\u001b[38;5;241m.\u001b[39marray(results[\u001b[38;5;124m'\u001b[39m\u001b[38;5;124mo_rmsd\u001b[39m\u001b[38;5;124m'\u001b[39m][s]\u001b[38;5;241m.\u001b[39mresults[\u001b[38;5;124m'\u001b[39m\u001b[38;5;124mrmsd\u001b[39m\u001b[38;5;124m'\u001b[39m][:,\u001b[38;5;241m0\u001b[39m], copy\u001b[38;5;241m=\u001b[39m\u001b[38;5;28;01mTrue\u001b[39;00m)\u001b[38;5;241m.\u001b[39mreshape(\u001b[38;5;241m-\u001b[39m\u001b[38;5;241m1\u001b[39m,\u001b[38;5;241m1\u001b[39m)\n",
      "\u001b[1;31mNameError\u001b[0m: name 'calculate_rmsd' is not defined"
     ]
    }
   ],
   "source": [
    "results=[]\n",
    "\n",
    "o_missingfiles = MissingFiles(path=missing_files_path)\n",
    "\n",
    "for idx_m, m in enumerate(electrolyte_mixtures):\n",
    "    \n",
    "    mixture_name = get_mixture_name(m)\n",
    "    \n",
    "    for idx_T, T in enumerate(temperatures):\n",
    "        \n",
    "        result = {}\n",
    "        result[\"mixture_name\"] = mixture_name\n",
    "        result[\"temperature\"] = T\n",
    "        \n",
    "        job_name = os.path.join(project_path, Nvt.get_simulation_name(m, T))\n",
    "        trajectory_path = os.path.join(job_name, 'system.production.lammpstrj')\n",
    "        #topology_path = os.path.join(job_name, 'system.start.data')\n",
    "        topology_path = os.path.join(job_name, 'system.data')\n",
    "        configuration_path = os.path.join(job_name, 'configuration.yaml')\n",
    "        ionic_concentration = 1.0\n",
    "        degrees_of_freedom = 3\n",
    "        \n",
    "        has_all_files = o_missingfiles.check_files(\n",
    "            paths = [\n",
    "                trajectory_path, \n",
    "                topology_path, \n",
    "                configuration_path\n",
    "            ]\n",
    "        )\n",
    "        \n",
    "        print(f\"{job_name}:{has_all_files}\")\n",
    "\n",
    "        if has_all_files:\n",
    "            \n",
    "            #o_rmsd is a MDAnalaysis.analysis.rms.RMSD object\n",
    "            results[\"o_rmsd\"] = calculate_rmsd(trajectory_path,\n",
    "                                               topology_path,\n",
    "                                               configuration_path,\n",
    "                                               atom_symbols=atom_symbols)\n",
    "            \n",
    "            for s in atom_symbols:\n",
    "\n",
    "                # get time-series for time and rmsd arrays\n",
    "                # cast into column arrays for\n",
    "                time = np.array(results[\"o_rmsd\"][s].results['rmsd'][:,0], copy=True).reshape(-1,1)\n",
    "                rmsd = np.array(results[\"o_rmsd\"][s].results['rmsd'][:,2], copy=True).reshape(-1,1)\n",
    "\n",
    "                # calculate diffusion\n",
    "                diffusion_coefficient = calculate_diffusion_coefficient(\n",
    "                        time=time,\n",
    "                        rmsd=rmsd,\n",
    "                        degrees_of_freedom=3,\n",
    "                        unitsconversion_time2seconds=1e-12,\n",
    "                        unitsconversion_length2meters=1e-9\n",
    "                )\n",
    "\n",
    "                #calculate ionic conductivity\n",
    "                ionic_conductivity =  calculate_ionic_conductivity(\n",
    "                        diffusion_constant=diffusion_coefficient,\n",
    "                        temperature=T,\n",
    "                        ionic_concentration=ionic_concentration\n",
    "                )\n",
    "\n",
    "                result['{}.D'.format(s)] = diffusion_coefficient\n",
    "                result['{}.kappa'.format(s)] = ionic_conductivity\n",
    "                \n",
    "                #configuration = Configuration()\n",
    "                #configuration.read(configuration_path)\n",
    "                #setting correct solvent_composition_by_volume b/c bug in configuration.yaml\n",
    "                #configuration['mixture']['molar_definition']['solvent_composition_by_volume'] = m['solvent_composition_by_volume']\n",
    "                \n",
    "                # calculate solvent molar concentration\n",
    "                #o = ElectrolyteMixture()                \n",
    "                #o.configuration = configuration\n",
    "                #o.run()\n",
    "\n",
    "                #configuration = o.configuration\n",
    "                #molar_concentration = configuration['mixture']['molar_concentration']\n",
    "\n",
    "                #solvent_sum = 0.0\n",
    "                #for solvent in solvent_symbols: \n",
    "                #    solvent_sum += molar_concentration[solvent]\n",
    "                #for solvent in solvent_symbols: \n",
    "                #    result['c.{}'.format(solvent)] = molar_concentration[solvent] / solvent_sum\n",
    "\n",
    "                #print(result)\n",
    "\n",
    "        \n",
    "            results.append(result)\n",
    "            \n",
    "        else:\n",
    "            pass\n"
   ]
  },
  {
   "cell_type": "code",
   "execution_count": 2,
   "id": "0a538081",
   "metadata": {},
   "outputs": [
    {
     "ename": "NameError",
     "evalue": "name 'results' is not defined",
     "output_type": "error",
     "traceback": [
      "\u001b[0;31m---------------------------------------------------------------------------\u001b[0m",
      "\u001b[0;31mNameError\u001b[0m                                 Traceback (most recent call last)",
      "Input \u001b[0;32mIn [2]\u001b[0m, in \u001b[0;36m<cell line: 1>\u001b[0;34m()\u001b[0m\n\u001b[0;32m----> 1\u001b[0m \u001b[43mresults\u001b[49m\n",
      "\u001b[0;31mNameError\u001b[0m: name 'results' is not defined"
     ]
    }
   ],
   "source": [
    "results"
   ]
  },
  {
   "cell_type": "code",
   "execution_count": 5,
   "id": "6fa8dad1",
   "metadata": {},
   "outputs": [
    {
     "data": {
      "text/html": [
       "<div>\n",
       "<style scoped>\n",
       "    .dataframe tbody tr th:only-of-type {\n",
       "        vertical-align: middle;\n",
       "    }\n",
       "\n",
       "    .dataframe tbody tr th {\n",
       "        vertical-align: top;\n",
       "    }\n",
       "\n",
       "    .dataframe thead th {\n",
       "        text-align: right;\n",
       "    }\n",
       "</style>\n",
       "<table border=\"1\" class=\"dataframe\">\n",
       "  <thead>\n",
       "    <tr style=\"text-align: right;\">\n",
       "      <th></th>\n",
       "      <th>mixture_name</th>\n",
       "      <th>temperature</th>\n",
       "      <th>Li.D</th>\n",
       "      <th>Li.kappa</th>\n",
       "      <th>P.D</th>\n",
       "      <th>P.kappa</th>\n",
       "    </tr>\n",
       "  </thead>\n",
       "  <tbody>\n",
       "    <tr>\n",
       "      <th>0</th>\n",
       "      <td>1_M_1:1:1:2</td>\n",
       "      <td>300</td>\n",
       "      <td>4.272113e-08</td>\n",
       "      <td>0.159445</td>\n",
       "      <td>2.828141e-08</td>\n",
       "      <td>0.105552</td>\n",
       "    </tr>\n",
       "    <tr>\n",
       "      <th>1</th>\n",
       "      <td>1_M_1:1:1:2</td>\n",
       "      <td>290</td>\n",
       "      <td>4.532020e-08</td>\n",
       "      <td>0.174978</td>\n",
       "      <td>3.903642e-08</td>\n",
       "      <td>0.150716</td>\n",
       "    </tr>\n",
       "    <tr>\n",
       "      <th>2</th>\n",
       "      <td>1_M_1:1:1:2</td>\n",
       "      <td>280</td>\n",
       "      <td>2.892396e-08</td>\n",
       "      <td>0.115661</td>\n",
       "      <td>4.754014e-08</td>\n",
       "      <td>0.190104</td>\n",
       "    </tr>\n",
       "    <tr>\n",
       "      <th>3</th>\n",
       "      <td>1_M_1:1:1:2</td>\n",
       "      <td>270</td>\n",
       "      <td>2.623181e-08</td>\n",
       "      <td>0.108781</td>\n",
       "      <td>1.799854e-08</td>\n",
       "      <td>0.074638</td>\n",
       "    </tr>\n",
       "    <tr>\n",
       "      <th>4</th>\n",
       "      <td>1_M_1:1:1:2</td>\n",
       "      <td>260</td>\n",
       "      <td>2.369441e-08</td>\n",
       "      <td>0.102038</td>\n",
       "      <td>1.671087e-08</td>\n",
       "      <td>0.071964</td>\n",
       "    </tr>\n",
       "    <tr>\n",
       "      <th>5</th>\n",
       "      <td>1_M_1:1:1:2</td>\n",
       "      <td>250</td>\n",
       "      <td>1.710705e-08</td>\n",
       "      <td>0.076617</td>\n",
       "      <td>2.828893e-08</td>\n",
       "      <td>0.126697</td>\n",
       "    </tr>\n",
       "    <tr>\n",
       "      <th>6</th>\n",
       "      <td>1_M_1:1:1:2</td>\n",
       "      <td>240</td>\n",
       "      <td>1.565458e-08</td>\n",
       "      <td>0.073033</td>\n",
       "      <td>1.454937e-08</td>\n",
       "      <td>0.067877</td>\n",
       "    </tr>\n",
       "    <tr>\n",
       "      <th>7</th>\n",
       "      <td>1_M_1:1:1:2</td>\n",
       "      <td>230</td>\n",
       "      <td>1.154515e-08</td>\n",
       "      <td>0.056203</td>\n",
       "      <td>8.985352e-09</td>\n",
       "      <td>0.043742</td>\n",
       "    </tr>\n",
       "    <tr>\n",
       "      <th>8</th>\n",
       "      <td>1_M_1:1:1:3</td>\n",
       "      <td>300</td>\n",
       "      <td>5.851864e-08</td>\n",
       "      <td>0.218404</td>\n",
       "      <td>4.496825e-08</td>\n",
       "      <td>0.167831</td>\n",
       "    </tr>\n",
       "    <tr>\n",
       "      <th>9</th>\n",
       "      <td>1_M_1:1:1:3</td>\n",
       "      <td>290</td>\n",
       "      <td>3.649859e-08</td>\n",
       "      <td>0.140918</td>\n",
       "      <td>5.644950e-08</td>\n",
       "      <td>0.217947</td>\n",
       "    </tr>\n",
       "    <tr>\n",
       "      <th>10</th>\n",
       "      <td>1_M_1:1:1:3</td>\n",
       "      <td>280</td>\n",
       "      <td>3.092246e-08</td>\n",
       "      <td>0.123653</td>\n",
       "      <td>3.634115e-08</td>\n",
       "      <td>0.145321</td>\n",
       "    </tr>\n",
       "    <tr>\n",
       "      <th>11</th>\n",
       "      <td>1_M_1:1:1:3</td>\n",
       "      <td>270</td>\n",
       "      <td>3.564350e-08</td>\n",
       "      <td>0.147810</td>\n",
       "      <td>3.921181e-08</td>\n",
       "      <td>0.162608</td>\n",
       "    </tr>\n",
       "    <tr>\n",
       "      <th>12</th>\n",
       "      <td>1_M_1:1:1:3</td>\n",
       "      <td>260</td>\n",
       "      <td>1.974062e-08</td>\n",
       "      <td>0.085011</td>\n",
       "      <td>1.976220e-08</td>\n",
       "      <td>0.085104</td>\n",
       "    </tr>\n",
       "    <tr>\n",
       "      <th>13</th>\n",
       "      <td>1_M_1:1:1:3</td>\n",
       "      <td>250</td>\n",
       "      <td>2.366341e-08</td>\n",
       "      <td>0.105980</td>\n",
       "      <td>2.543967e-08</td>\n",
       "      <td>0.113936</td>\n",
       "    </tr>\n",
       "    <tr>\n",
       "      <th>14</th>\n",
       "      <td>1_M_1:1:1:3</td>\n",
       "      <td>240</td>\n",
       "      <td>1.743238e-08</td>\n",
       "      <td>0.081327</td>\n",
       "      <td>2.029580e-08</td>\n",
       "      <td>0.094686</td>\n",
       "    </tr>\n",
       "    <tr>\n",
       "      <th>15</th>\n",
       "      <td>1_M_1:1:1:3</td>\n",
       "      <td>230</td>\n",
       "      <td>1.473037e-08</td>\n",
       "      <td>0.071709</td>\n",
       "      <td>2.437830e-08</td>\n",
       "      <td>0.118676</td>\n",
       "    </tr>\n",
       "    <tr>\n",
       "      <th>16</th>\n",
       "      <td>1_M_1:1:1:4</td>\n",
       "      <td>300</td>\n",
       "      <td>4.261517e-08</td>\n",
       "      <td>0.159049</td>\n",
       "      <td>4.142844e-08</td>\n",
       "      <td>0.154620</td>\n",
       "    </tr>\n",
       "    <tr>\n",
       "      <th>17</th>\n",
       "      <td>1_M_1:1:1:4</td>\n",
       "      <td>290</td>\n",
       "      <td>4.932293e-08</td>\n",
       "      <td>0.190432</td>\n",
       "      <td>3.723141e-08</td>\n",
       "      <td>0.143747</td>\n",
       "    </tr>\n",
       "    <tr>\n",
       "      <th>18</th>\n",
       "      <td>1_M_1:1:1:4</td>\n",
       "      <td>280</td>\n",
       "      <td>3.180559e-08</td>\n",
       "      <td>0.127184</td>\n",
       "      <td>3.040709e-08</td>\n",
       "      <td>0.121592</td>\n",
       "    </tr>\n",
       "    <tr>\n",
       "      <th>19</th>\n",
       "      <td>1_M_1:1:1:4</td>\n",
       "      <td>270</td>\n",
       "      <td>3.027658e-08</td>\n",
       "      <td>0.125554</td>\n",
       "      <td>4.015261e-08</td>\n",
       "      <td>0.166509</td>\n",
       "    </tr>\n",
       "    <tr>\n",
       "      <th>20</th>\n",
       "      <td>1_M_1:1:1:4</td>\n",
       "      <td>260</td>\n",
       "      <td>3.818346e-08</td>\n",
       "      <td>0.164434</td>\n",
       "      <td>3.508595e-08</td>\n",
       "      <td>0.151094</td>\n",
       "    </tr>\n",
       "    <tr>\n",
       "      <th>21</th>\n",
       "      <td>1_M_1:1:1:4</td>\n",
       "      <td>250</td>\n",
       "      <td>2.815671e-08</td>\n",
       "      <td>0.126104</td>\n",
       "      <td>3.552989e-08</td>\n",
       "      <td>0.159127</td>\n",
       "    </tr>\n",
       "    <tr>\n",
       "      <th>22</th>\n",
       "      <td>1_M_1:1:1:4</td>\n",
       "      <td>240</td>\n",
       "      <td>2.689678e-08</td>\n",
       "      <td>0.125481</td>\n",
       "      <td>2.529569e-08</td>\n",
       "      <td>0.118011</td>\n",
       "    </tr>\n",
       "    <tr>\n",
       "      <th>23</th>\n",
       "      <td>1_M_1:1:1:4</td>\n",
       "      <td>230</td>\n",
       "      <td>9.316645e-09</td>\n",
       "      <td>0.045354</td>\n",
       "      <td>1.844056e-08</td>\n",
       "      <td>0.089771</td>\n",
       "    </tr>\n",
       "  </tbody>\n",
       "</table>\n",
       "</div>"
      ],
      "text/plain": [
       "   mixture_name  temperature          Li.D  Li.kappa           P.D   P.kappa\n",
       "0   1_M_1:1:1:2          300  4.272113e-08  0.159445  2.828141e-08  0.105552\n",
       "1   1_M_1:1:1:2          290  4.532020e-08  0.174978  3.903642e-08  0.150716\n",
       "2   1_M_1:1:1:2          280  2.892396e-08  0.115661  4.754014e-08  0.190104\n",
       "3   1_M_1:1:1:2          270  2.623181e-08  0.108781  1.799854e-08  0.074638\n",
       "4   1_M_1:1:1:2          260  2.369441e-08  0.102038  1.671087e-08  0.071964\n",
       "5   1_M_1:1:1:2          250  1.710705e-08  0.076617  2.828893e-08  0.126697\n",
       "6   1_M_1:1:1:2          240  1.565458e-08  0.073033  1.454937e-08  0.067877\n",
       "7   1_M_1:1:1:2          230  1.154515e-08  0.056203  8.985352e-09  0.043742\n",
       "8   1_M_1:1:1:3          300  5.851864e-08  0.218404  4.496825e-08  0.167831\n",
       "9   1_M_1:1:1:3          290  3.649859e-08  0.140918  5.644950e-08  0.217947\n",
       "10  1_M_1:1:1:3          280  3.092246e-08  0.123653  3.634115e-08  0.145321\n",
       "11  1_M_1:1:1:3          270  3.564350e-08  0.147810  3.921181e-08  0.162608\n",
       "12  1_M_1:1:1:3          260  1.974062e-08  0.085011  1.976220e-08  0.085104\n",
       "13  1_M_1:1:1:3          250  2.366341e-08  0.105980  2.543967e-08  0.113936\n",
       "14  1_M_1:1:1:3          240  1.743238e-08  0.081327  2.029580e-08  0.094686\n",
       "15  1_M_1:1:1:3          230  1.473037e-08  0.071709  2.437830e-08  0.118676\n",
       "16  1_M_1:1:1:4          300  4.261517e-08  0.159049  4.142844e-08  0.154620\n",
       "17  1_M_1:1:1:4          290  4.932293e-08  0.190432  3.723141e-08  0.143747\n",
       "18  1_M_1:1:1:4          280  3.180559e-08  0.127184  3.040709e-08  0.121592\n",
       "19  1_M_1:1:1:4          270  3.027658e-08  0.125554  4.015261e-08  0.166509\n",
       "20  1_M_1:1:1:4          260  3.818346e-08  0.164434  3.508595e-08  0.151094\n",
       "21  1_M_1:1:1:4          250  2.815671e-08  0.126104  3.552989e-08  0.159127\n",
       "22  1_M_1:1:1:4          240  2.689678e-08  0.125481  2.529569e-08  0.118011\n",
       "23  1_M_1:1:1:4          230  9.316645e-09  0.045354  1.844056e-08  0.089771"
      ]
     },
     "execution_count": 5,
     "metadata": {},
     "output_type": "execute_result"
    }
   ],
   "source": [
    "df_results = pd.DataFrame(results)\n",
    "df_results"
   ]
  },
  {
   "cell_type": "code",
   "execution_count": 6,
   "id": "3bca3b46",
   "metadata": {},
   "outputs": [],
   "source": [
    "# write results as .csv\n",
    "results_path = '{}_{}.csv'.format('LiPF6', 'DEC_DMC_EC_EMC')\n",
    "df_results.to_csv(os.path.join(project_path, results_path))"
   ]
  },
  {
   "cell_type": "code",
   "execution_count": 10,
   "id": "31e6aa81",
   "metadata": {
    "scrolled": false
   },
   "outputs": [
    {
     "data": {
      "text/plain": [
       "[<matplotlib.lines.Line2D at 0x2b2d1770cd0>]"
      ]
     },
     "execution_count": 10,
     "metadata": {},
     "output_type": "execute_result"
    },
    {
     "data": {
      "text/plain": [
       "[<matplotlib.lines.Line2D at 0x2b2d1770b20>]"
      ]
     },
     "execution_count": 10,
     "metadata": {},
     "output_type": "execute_result"
    },
    {
     "data": {
      "text/plain": [
       "[<matplotlib.lines.Line2D at 0x2b2d1805220>]"
      ]
     },
     "execution_count": 10,
     "metadata": {},
     "output_type": "execute_result"
    },
    {
     "data": {
      "text/plain": [
       "(230.0, 300.0)"
      ]
     },
     "execution_count": 10,
     "metadata": {},
     "output_type": "execute_result"
    },
    {
     "data": {
      "text/plain": [
       "Text(0, 0.5, 'ionic conductivity [S cm^2]')"
      ]
     },
     "execution_count": 10,
     "metadata": {},
     "output_type": "execute_result"
    },
    {
     "data": {
      "text/plain": [
       "Text(0.5, 0, 'temperature [K]')"
      ]
     },
     "execution_count": 10,
     "metadata": {},
     "output_type": "execute_result"
    },
    {
     "data": {
      "text/plain": [
       "<matplotlib.legend.Legend at 0x2b2d1770f70>"
      ]
     },
     "execution_count": 10,
     "metadata": {},
     "output_type": "execute_result"
    },
    {
     "data": {
      "image/png": "[encoded data removed]",
      "text/plain": [
       "<Figure size 720x720 with 1 Axes>"
      ]
     },
     "metadata": {
      "needs_background": "light"
     },
     "output_type": "display_data"
    }
   ],
   "source": [
    "#plotting\n",
    "from matplotlib import style\n",
    "# style.use('dark_background')\n",
    "\n",
    "plot_path = os.path.join(project_path, 'plots')\n",
    "mixtures = df_results.mixture_name.unique() \n",
    "\n",
    "#separate plots by mixture\n",
    "fig, ax = plt.subplots(1,1)\n",
    "fig.set_size_inches(10, 10)\n",
    "for mixture in mixtures:\n",
    "    df = df_results[ df_results['mixture_name'] == mixture]\n",
    "    df = df[df['temperature'] != 400]\n",
    "    ax.plot(df['temperature'], df['Li.kappa'], label=mixture)\n",
    "\n",
    "ax.set_xlim( [ df['temperature'].min(), df['temperature'].max() ] )\n",
    "ax.set_ylabel('ionic conductivity [S cm^2]')\n",
    "ax.set_xlabel('temperature [K]')\n",
    "ax.legend()\n",
    "\n"
   ]
  },
  {
   "cell_type": "code",
   "execution_count": 8,
   "id": "39fa56aa",
   "metadata": {},
   "outputs": [],
   "source": [
    "plt.show()\n",
    "if False:\n",
    "    for m in df_results.mixture_name.unique():\n",
    "\n",
    "        df_filtered = df_results[df_results['mixture_name'] == m ]\n",
    "        ax.plot(x = df)\n",
    "\n",
    "        #excluding 400 degree value\n",
    "\n",
    "        ax_diffusion = df_filtered[df_filtered['temperature'] != 400].plot(x = 'temperature', \n",
    "                                        y = ['Li.D', 'P.D'], \n",
    "                                        style = '.-', \n",
    "                                        title = m,\n",
    "                                        figsize = (10,10)\n",
    "                                        )\n",
    "        ax_diffusion.set_ylabel('Diffusion Coefficient')\n",
    "        plt.savefig(os.path.join(plot_path, '{}_diffusion_v_temp.png'.format(m.replace(':', ';'))))\n",
    "\n",
    "        #excluding 400 degree value\n",
    "        ax_conductivity = df_filtered[df_filtered['temperature'] != 400].plot(x = 'temperature', \n",
    "                                           y = ['Li.kappa', 'P.kappa'], \n",
    "                                           style = '.-', \n",
    "                                           title = m,\n",
    "                                           figsize = (10,10)\n",
    "                                           )\n",
    "        ax_conductivity.set_ylabel('Conductivity')\n",
    "        plt.savefig(os.path.join(plot_path, '{}_conductivity_v_temp.png'.format(m.replace(':', ';'))))"
   ]
  },
  {
   "cell_type": "code",
   "execution_count": 9,
   "id": "0bda4961",
   "metadata": {},
   "outputs": [
    {
     "data": {
      "text/plain": [
       "array([[4.08978476e-07],\n",
       "       [2.01135543e-01],\n",
       "       [3.56904266e-01],\n",
       "       ...,\n",
       "       [1.08371201e+01],\n",
       "       [1.21122986e+01],\n",
       "       [1.21222587e+01]])"
      ]
     },
     "execution_count": 9,
     "metadata": {},
     "output_type": "execute_result"
    }
   ],
   "source": [
    "rmsd"
   ]
  },
  {
   "cell_type": "code",
   "execution_count": null,
   "id": "2e4a8193",
   "metadata": {},
   "outputs": [],
   "source": []
  }
 ],
 "metadata": {
  "kernelspec": {
   "display_name": "Python 3 (ipykernel)",
   "language": "python",
   "name": "python3"
  },
  "language_info": {
   "codemirror_mode": {
    "name": "ipython",
    "version": 3
   },
   "file_extension": ".py",
   "mimetype": "text/x-python",
   "name": "python",
   "nbconvert_exporter": "python",
   "pygments_lexer": "ipython3",
   "version": "3.9.12"
  },
  "vscode": {
   "interpreter": {
    "hash": "b37f16fa298f8e29b7d7f4a3628a5174212dbad2e5f85c344460795133d34a44"
   }
  }
 },
 "nbformat": 4,
 "nbformat_minor": 5
}
