{
 "cells": [
  {
   "cell_type": "markdown",
   "id": "2bb6da35",
   "metadata": {},
   "source": [
    "## Analysis of 2CEE_01 10k timesteps from 5K to 300K"
   ]
  },
  {
   "cell_type": "code",
   "execution_count": 16,
   "id": "d0a52a34",
   "metadata": {
    "scrolled": false
   },
   "outputs": [],
   "source": [
    "# Import all necessary modules/libraries\n",
    "from statistics import mean\n",
    "import numpy as np\n",
    "import pandas as pd\n",
    "import matplotlib.pyplot as plt\n",
    "\n",
    "# Create class to read and format csv\n",
    "class LammpsThermoOutputFile():\n",
    "    # Create headers/tags for each value in csv, and estalish them in Pandas dataframe\n",
    "    DEFAULT_TAGS = [\"step\", \"time\", \"temp\", \"press\", \"pe\", \"ke\", \"etotal\",\"lx\", \"ly\", \"lz\", \"xy\", \"xz\", \"yz\", \"pxx\", \"pyy\", \"pzz\", \"pxy\", \"pxz\", \"pyz\", \"density\"]\n",
    "    def __init__(self, tags=None):\n",
    "        self.tags = None\n",
    "        self.data_df: pd.DataFrame = None\n",
    "        if tags is None:\n",
    "            self.tags = LammpsThermoOutputFile.DEFAULT_TAGS\n",
    "        else:\n",
    "            self.tags = tags\n",
    "            \n",
    "    def read(self, path):\n",
    "        with open(path, 'r') as f:\n",
    "            lines = f.readlines()\n",
    "        \n",
    "        data = []\n",
    "        for line in lines:\n",
    "            if not line.startswith(\"#\"):\n",
    "                args = [k.strip() for k in line.strip().split()]\n",
    "                data.append(args)\n",
    "        \n",
    "        self.data_df = pd.DataFrame(data=data, columns=self.tags)\n",
    "        for i in range(len(LammpsThermoOutputFile.DEFAULT_TAGS)):\n",
    "            n = LammpsThermoOutputFile.DEFAULT_TAGS[i]\n",
    "            \n",
    "            if n in ['step', \"time\"]:\n",
    "                # convert int types to int\n",
    "                self.data_df[n] = self.data_df[n].astype(int)\n",
    "            else:\n",
    "                # convert float types to float\n",
    "                self.data_df[n] = self.data_df[n].astype(float)\n",
    "\n",
    "\n",
    "                \n",
    "# Function to create line-graph of columns of the data\n",
    "def line_graph(fig_num, x, y, title, label=''):\n",
    "    fig_name = \"Fig\" + fig_num\n",
    "    figure = plt.figure(fig_name)\n",
    "    plt.plot(data[x], data[y], label=label)\n",
    "    plt.title(title)\n",
    "\n",
    "# Function to create scatter-graph of columns of the data\n",
    "def scatt_graph(fig_num, x, y, title, size, color):\n",
    "    fig_name = \"Fig\" + fig_num\n",
    "    figure = plt.figure(fig_name)\n",
    "    plt.scatter(data[x], data[y], s=size, c=color, marker=\".\")\n",
    "    plt.title(title)\n",
    "    \n",
    "# Function to graph linear regression\n",
    "def line_Reg(x, y):\n",
    "    # math to find regression line\n",
    "    m = (((mean(data[x])*mean(data[y])) - mean(data[x]*data[y])) /\n",
    "         ((mean(data[x])*mean(data[y])) - mean(data[x]*data[y])))\n",
    "    \n",
    "    b = mean(data[y]) - m*mean(data[x])\n",
    "    # Create line of best fit\n",
    "    regression_line = [(m*i)+b for i in data[x]]\n",
    "    \n",
    "    # Plot line of best fit\n",
    "    plt.plot(data[x], regression_line)\n"
   ]
  },
  {
   "cell_type": "code",
   "execution_count": 17,
   "id": "fbcf6743",
   "metadata": {},
   "outputs": [],
   "source": [
    "# Run classes and methods to read data and create Pandas dataframe\n",
    "fileout_path = \"2CEE_10/system.npt2CEE.300K.300K.out\"\n",
    "file = LammpsThermoOutputFile()\n",
    "file.read(fileout_path)\n",
    "data = file.data_df\n",
    "\n",
    "DL = data['density']\n",
    "\n",
    "# Print data\n",
    "# print(data)"
   ]
  },
  {
   "cell_type": "code",
   "execution_count": 20,
   "id": "31a86aa4",
   "metadata": {},
   "outputs": [
    {
     "name": "stdout",
     "output_type": "stream",
     "text": [
      "The average density is:\n",
      " 0.6683454410383425\n",
      "\n",
      "\n",
      "The standard deviation is:\n",
      " 0.382405843200141\n",
      "\n",
      "\n",
      "Percent deviation is:  0.5721679534553789 %\n"
     ]
    }
   ],
   "source": [
    "# Stats and analysis\n",
    "\n",
    "DL = data['density']\n",
    "avg_density = DL.mean()\n",
    "print(\"The average density is:\\n\", avg_density)\n",
    "\n",
    "stdv = DL.std()\n",
    "print(\"\\n\\nThe standard deviation is:\\n\", stdv)\n",
    "\n",
    "print(\"\\n\\nPercent deviation is: \", stdv/avg_density, \"%\")"
   ]
  },
  {
   "cell_type": "code",
   "execution_count": 21,
   "id": "c051d8b2",
   "metadata": {},
   "outputs": [],
   "source": [
    "# Calculations for determining mol ratio\n",
    "def mol_ratio(dens1, molmass1, dens2, molmass2):\n",
    "    mol1 = (1/molmass1) * (dens1) * 1000\n",
    "    mol2 = (1/molmass2) * (dens2) * 1000\n",
    "    perc1 = mol1/(mol1+mol2)\n",
    "    perc2 = mol2/(mol1+mol2)\n",
    "    \n",
    "    mol1num = round(perc1)\n",
    "    mol2num = round(perc2)\n",
    "    \n",
    "    return perc1, perc2\n",
    "\n",
    "def mol_num(perc1, perc2, fact):\n",
    "    molnum1 = round(perc1 * fact)\n",
    "    molnum2 = round(perc2 * fact)\n",
    "    \n",
    "    return molnum1, molnum2\n"
   ]
  },
  {
   "cell_type": "code",
   "execution_count": 22,
   "id": "97329140",
   "metadata": {},
   "outputs": [
    {
     "name": "stdout",
     "output_type": "stream",
     "text": [
      "Ratio for 2CEE and LIPF6:\n",
      " (0.8433535891367955, 0.1566464108632045)\n",
      "\n",
      "Ratio for 3MPN and LIPF5:\n",
      " (0.9212502623817903, 0.07874973761820969)\n",
      "\n",
      "\n",
      " Mol 2CEE, Mol LiPF6: (562, 104)\n",
      "\n",
      "\n",
      " Mol 3MPN, Mol LiPF6: (307, 26)\n"
     ]
    }
   ],
   "source": [
    "# mol ratio for 2CEE and LiPF6\n",
    "perc1 = mol_ratio(avg_density, 124.14, 1/1000,1)\n",
    "perc2 = mol_ratio(0.9955385211412047, 85.1, 1/1000,1)\n",
    "\n",
    "print(\"Ratio for 2CEE and LIPF6:\\n\", perc1)\n",
    "print(\"\\nRatio for 3MPN and LIPF5:\\n\", perc2)\n",
    "\n",
    "print(\"\\n\\n Mol 2CEE, Mol LiPF6:\", mol_num(perc1[0], perc1[1], 2000/3))\n",
    "print(\"\\n\\n Mol 3MPN, Mol LiPF6:\", mol_num(perc2[0], perc2[1], 1000/3))\n"
   ]
  },
  {
   "cell_type": "code",
   "execution_count": null,
   "id": "285100ff",
   "metadata": {},
   "outputs": [],
   "source": []
  },
  {
   "cell_type": "code",
   "execution_count": 33,
   "id": "0b7c4d57",
   "metadata": {},
   "outputs": [],
   "source": [
    "# # # plot\n",
    "\n",
    "# # # 1st Figure: Time vs Energy: Individual graphs for KE, PE, and ME\n",
    "# line_graph(\"1\", \"time\", \"ke\", \"Time vs Kinetic Energy\", \"Kinetic Energy\")\n",
    "# line_graph(\"1\", \"time\", \"pe\", \"Time vs Potential Energy\", \"Potential Energy\")\n",
    "# line_graph(\"1\", \"time\", \"etotal\", \"Time vs Total Energy\", \"Total Energy\")\n",
    "# # Label Axes\n",
    "# plt.xlabel(\"Time (ps)\")\n",
    "# plt.ylabel(\"Energy (eV)\")\n",
    "\n",
    "\n",
    "# # # Create Legend\n",
    "# plt.legend(loc=\"upper left\")\n",
    "# plt.savefig('Time.Energy.png')\n",
    "# plt.close()\n",
    "\n",
    "\n",
    "# # # 2nd Figure: Time vs Length of box\n",
    "# line_graph(\"2\", \"time\", \"lx\", \"Time vs Lx\")\n",
    "# plt.xlabel(\"Time (ps)\")\n",
    "# plt.ylabel(\"Length (Å)\")\n",
    "# plt.savefig('Time.Lx.png')\n",
    "# plt.close()\n",
    "\n",
    "# # # 3rd Figure: Time vs Density\n",
    "# line_graph(\"3\", \"time\", \"density\", \"Time vs Density\")\n",
    "# plt.xlabel(\"Time (ps)\")\n",
    "# plt.ylabel(\"Density (g/cm^3)\")\n",
    "# plt.savefig('Time.Density.png')\n",
    "# plt.close()\n",
    "\n",
    "# # # 4th Figure: Time vs Temperature\n",
    "# line_graph(\"4\", \"time\", \"temp\", \"Time vs Temperature\")\n",
    "# plt.xlabel(\"Time (ps)\")\n",
    "# plt.ylabel(\"Temperature (K)\")\n",
    "# plt.savefig('Time.Temp.png')\n",
    "# plt.close()"
   ]
  },
  {
   "cell_type": "code",
   "execution_count": null,
   "id": "759ae75e",
   "metadata": {},
   "outputs": [],
   "source": []
  }
 ],
 "metadata": {
  "kernelspec": {
   "display_name": "Python 3 (ipykernel)",
   "language": "python",
   "name": "python3"
  },
  "language_info": {
   "codemirror_mode": {
    "name": "ipython",
    "version": 3
   },
   "file_extension": ".py",
   "mimetype": "text/x-python",
   "name": "python",
   "nbconvert_exporter": "python",
   "pygments_lexer": "ipython3",
   "version": "3.9.12"
  }
 },
 "nbformat": 4,
 "nbformat_minor": 5
}
